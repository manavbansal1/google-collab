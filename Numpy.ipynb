{
  "nbformat": 4,
  "nbformat_minor": 0,
  "metadata": {
    "colab": {
      "provenance": [],
      "authorship_tag": "ABX9TyOafEGHfuWtBz4DK3xqBgZ5",
      "include_colab_link": true
    },
    "kernelspec": {
      "name": "python3",
      "display_name": "Python 3"
    },
    "language_info": {
      "name": "python"
    }
  },
  "cells": [
    {
      "cell_type": "markdown",
      "metadata": {
        "id": "view-in-github",
        "colab_type": "text"
      },
      "source": [
        "<a href=\"https://colab.research.google.com/github/manavbansal1/google-collab/blob/main/Numpy.ipynb\" target=\"_parent\"><img src=\"https://colab.research.google.com/assets/colab-badge.svg\" alt=\"Open In Colab\"/></a>"
      ]
    },
    {
      "cell_type": "markdown",
      "source": [
        "Numpy Practice"
      ],
      "metadata": {
        "id": "iPR41mD37FB0"
      }
    },
    {
      "cell_type": "code",
      "execution_count": 1,
      "metadata": {
        "id": "lUdnkMCMarsP"
      },
      "outputs": [],
      "source": [
        "import numpy as np"
      ]
    },
    {
      "cell_type": "code",
      "source": [
        "numpy_array = np.array([(1,2,3,4,5), (6,7,8,9,10)], dtype='int') # dtype is optional"
      ],
      "metadata": {
        "id": "3QnCWj4u7MW-"
      },
      "execution_count": 11,
      "outputs": []
    },
    {
      "cell_type": "code",
      "source": [
        "print(numpy_array)\n",
        "print(numpy_array.shape) # for 2d array no. of rows * no. of columns\n",
        "print(type(numpy_array))\n",
        "print(numpy_array.size) # total nuber of elements\n"
      ],
      "metadata": {
        "colab": {
          "base_uri": "https://localhost:8080/"
        },
        "id": "eKWOLmgm7PWn",
        "outputId": "2f675348-1da4-4c57-b184-afab290bcccc"
      },
      "execution_count": 14,
      "outputs": [
        {
          "output_type": "stream",
          "name": "stdout",
          "text": [
            "[[ 1  2  3  4  5]\n",
            " [ 6  7  8  9 10]]\n",
            "(2, 5)\n",
            "<class 'numpy.ndarray'>\n",
            "10\n"
          ]
        }
      ]
    },
    {
      "cell_type": "code",
      "source": [
        "c = np.array([1,2,3,4,5,6,7,8,9], dtype='float')\n",
        "print(c)\n",
        "print(type(c))"
      ],
      "metadata": {
        "colab": {
          "base_uri": "https://localhost:8080/"
        },
        "id": "2BM8PVtf8U2J",
        "outputId": "560bc018-136b-4f2c-860d-b68242b0a1a4"
      },
      "execution_count": 15,
      "outputs": [
        {
          "output_type": "stream",
          "name": "stdout",
          "text": [
            "[1. 2. 3. 4. 5. 6. 7. 8. 9.]\n",
            "<class 'numpy.ndarray'>\n"
          ]
        }
      ]
    },
    {
      "cell_type": "markdown",
      "source": [
        "Initial Placeholers in numpy array"
      ],
      "metadata": {
        "id": "busKaiG_8iHC"
      }
    },
    {
      "cell_type": "code",
      "source": [
        "x = np.zeros((4,5), dtype='bool') #dtype can be int float str or bool\n",
        "print(x)"
      ],
      "metadata": {
        "colab": {
          "base_uri": "https://localhost:8080/"
        },
        "id": "gXIyhFBV8oRs",
        "outputId": "d65a81c6-d622-477a-9b22-f1e2ed265fad"
      },
      "execution_count": 21,
      "outputs": [
        {
          "output_type": "stream",
          "name": "stdout",
          "text": [
            "[[False False False False False]\n",
            " [False False False False False]\n",
            " [False False False False False]\n",
            " [False False False False False]]\n"
          ]
        }
      ]
    },
    {
      "cell_type": "code",
      "source": [
        "# numpy arrays of ones\n",
        "y = np.ones((3,3))\n",
        "print(y)"
      ],
      "metadata": {
        "colab": {
          "base_uri": "https://localhost:8080/"
        },
        "id": "4BmIQP_M8_oy",
        "outputId": "1efbd114-37f5-44a0-c848-467cdfd69eec"
      },
      "execution_count": 22,
      "outputs": [
        {
          "output_type": "stream",
          "name": "stdout",
          "text": [
            "[[1. 1. 1.]\n",
            " [1. 1. 1.]\n",
            " [1. 1. 1.]]\n"
          ]
        }
      ]
    },
    {
      "cell_type": "code",
      "source": [
        "# array of a specific numbers\n",
        "z = np.full((5,4), 5,  dtype='float')\n",
        "print(z)"
      ],
      "metadata": {
        "colab": {
          "base_uri": "https://localhost:8080/"
        },
        "id": "u8mw0Jc79IE2",
        "outputId": "81ac66e3-24f6-400a-c93c-8b989128be19"
      },
      "execution_count": 24,
      "outputs": [
        {
          "output_type": "stream",
          "name": "stdout",
          "text": [
            "[[5. 5. 5. 5.]\n",
            " [5. 5. 5. 5.]\n",
            " [5. 5. 5. 5.]\n",
            " [5. 5. 5. 5.]\n",
            " [5. 5. 5. 5.]]\n"
          ]
        }
      ]
    },
    {
      "cell_type": "code",
      "source": [
        "# create an identity matrix\n",
        "a = np.eye(4, dtype='int')\n",
        "print(a)"
      ],
      "metadata": {
        "colab": {
          "base_uri": "https://localhost:8080/"
        },
        "id": "sHZTqCDB9Wcp",
        "outputId": "4d08c2a7-e966-4b9e-a011-139df01d26d0"
      },
      "execution_count": 26,
      "outputs": [
        {
          "output_type": "stream",
          "name": "stdout",
          "text": [
            "[[1 0 0 0]\n",
            " [0 1 0 0]\n",
            " [0 0 1 0]\n",
            " [0 0 0 1]]\n"
          ]
        }
      ]
    },
    {
      "cell_type": "code",
      "source": [
        "# create a numpy array with random arrays\n",
        "\n",
        "b = np.random.random((3,4))\n",
        "print(b)"
      ],
      "metadata": {
        "colab": {
          "base_uri": "https://localhost:8080/"
        },
        "id": "jXFab3SJ9h8t",
        "outputId": "f7cc937e-bd98-4a96-d26f-fb1c1b218e88"
      },
      "execution_count": 29,
      "outputs": [
        {
          "output_type": "stream",
          "name": "stdout",
          "text": [
            "[[0.15698912 0.21035696 0.62359532 0.78779139]\n",
            " [0.2892467  0.98811078 0.46126413 0.27034145]\n",
            " [0.85140945 0.92014756 0.56627464 0.32836962]]\n"
          ]
        }
      ]
    },
    {
      "cell_type": "code",
      "source": [
        "# Create a matrix between 10 and 100 ints\n",
        "c = np.random.randint(10,100,(3,5))\n",
        "print(c)"
      ],
      "metadata": {
        "colab": {
          "base_uri": "https://localhost:8080/"
        },
        "id": "Dh_mc9fw9zf0",
        "outputId": "cf9d932a-031e-4f70-e478-ad839fe61ba5"
      },
      "execution_count": 32,
      "outputs": [
        {
          "output_type": "stream",
          "name": "stdout",
          "text": [
            "[[93 40 11 53 71]\n",
            " [57 46 75 30 28]\n",
            " [35 32 96 72 92]]\n"
          ]
        }
      ]
    },
    {
      "cell_type": "code",
      "source": [
        "# array of 5 evenly spaced values between 10 and 30\n",
        "d = np.linspace(10,30,5)\n",
        "print(d)"
      ],
      "metadata": {
        "colab": {
          "base_uri": "https://localhost:8080/"
        },
        "id": "Oj1q3Xt--HMJ",
        "outputId": "f907ded3-3eea-4ee5-a5b0-e2d6221f92e9"
      },
      "execution_count": 35,
      "outputs": [
        {
          "output_type": "stream",
          "name": "stdout",
          "text": [
            "[10. 15. 20. 25. 30.]\n"
          ]
        }
      ]
    },
    {
      "cell_type": "code",
      "source": [
        "# array of evenly spaced values --> specifying the step not the number of values we need\n",
        "e = np.arange(10,30,5)\n",
        "print(e)"
      ],
      "metadata": {
        "colab": {
          "base_uri": "https://localhost:8080/"
        },
        "id": "t3YmMnAi-eET",
        "outputId": "444c48ee-3c61-48a2-deef-20f5a457e4a4"
      },
      "execution_count": 36,
      "outputs": [
        {
          "output_type": "stream",
          "name": "stdout",
          "text": [
            "[10 15 20 25]\n"
          ]
        }
      ]
    },
    {
      "cell_type": "code",
      "source": [
        "# list to numpy array\n",
        "list1= [1,2,3,4,5,6,7]\n",
        "np_array = np.asanyarray(list1)\n",
        "print(np_array)\n",
        "print(type(np_array))"
      ],
      "metadata": {
        "colab": {
          "base_uri": "https://localhost:8080/"
        },
        "id": "FX4CryTT-3d1",
        "outputId": "838b69a5-6ac1-49fd-9cdd-3b305114d2a0"
      },
      "execution_count": 37,
      "outputs": [
        {
          "output_type": "stream",
          "name": "stdout",
          "text": [
            "[1 2 3 4 5 6 7]\n",
            "<class 'numpy.ndarray'>\n"
          ]
        }
      ]
    },
    {
      "cell_type": "markdown",
      "source": [
        "Analyzing the np arrays"
      ],
      "metadata": {
        "id": "vJss9FtV_k2S"
      }
    },
    {
      "cell_type": "code",
      "source": [
        "c = np.random.randint(10,90,(5,5))\n",
        "print(c)"
      ],
      "metadata": {
        "colab": {
          "base_uri": "https://localhost:8080/"
        },
        "id": "qplrZv0I_kWA",
        "outputId": "fc2789c8-0a4e-4433-e0c1-5e9f12187ed4"
      },
      "execution_count": 38,
      "outputs": [
        {
          "output_type": "stream",
          "name": "stdout",
          "text": [
            "[[45 15 69 76 51]\n",
            " [72 59 56 76 67]\n",
            " [71 42 79 23 30]\n",
            " [11 62 70 31 78]\n",
            " [68 14 75 80 31]]\n"
          ]
        }
      ]
    },
    {
      "cell_type": "code",
      "source": [
        "# array dimension\n",
        "print(c.shape) # n*m matrix\n",
        "\n",
        "# num of dimesnions\n",
        "print(c.ndim)\n",
        "\n",
        "# total number of elemnets in the array\n",
        "print(c.size)\n",
        "\n",
        "# checking the data type of the values in array\n",
        "print(c.dtype)\n"
      ],
      "metadata": {
        "colab": {
          "base_uri": "https://localhost:8080/"
        },
        "id": "PeTA-BJj_GgZ",
        "outputId": "3e3f7276-39c5-4b3b-9b1e-db59918b5cd3"
      },
      "execution_count": 42,
      "outputs": [
        {
          "output_type": "stream",
          "name": "stdout",
          "text": [
            "(5, 5)\n",
            "2\n",
            "25\n",
            "int64\n"
          ]
        }
      ]
    },
    {
      "cell_type": "markdown",
      "source": [
        "Mathematical operation on a numpy array"
      ],
      "metadata": {
        "id": "XEvBU8jWATeK"
      }
    },
    {
      "cell_type": "code",
      "source": [
        "list1 = [1,2,3,4,5]\n",
        "list2 = [6,7,8,9,10]\n",
        "\n",
        "print(list1 + list2) # normal list concatinate\n",
        "\n",
        "a = np.random.randint(0,10,(3,3))\n",
        "b = np.random.randint(10,20,(3,3))\n",
        "print(a)\n",
        "print(b)"
      ],
      "metadata": {
        "colab": {
          "base_uri": "https://localhost:8080/"
        },
        "id": "gmn91c1JAWP0",
        "outputId": "8a22d78e-9b56-4a4a-9d7d-990d25731347"
      },
      "execution_count": 47,
      "outputs": [
        {
          "output_type": "stream",
          "name": "stdout",
          "text": [
            "[1, 2, 3, 4, 5, 6, 7, 8, 9, 10]\n",
            "[[6 2 1]\n",
            " [8 7 3]\n",
            " [4 9 2]]\n",
            "[[11 17 14]\n",
            " [17 15 12]\n",
            " [16 17 16]]\n"
          ]
        }
      ]
    },
    {
      "cell_type": "code",
      "source": [
        "print(a + b) # element wise addition when its np array"
      ],
      "metadata": {
        "colab": {
          "base_uri": "https://localhost:8080/"
        },
        "id": "i2hc1r2LBCK0",
        "outputId": "46322fe7-ff4a-483f-d48a-43c554ae77a3"
      },
      "execution_count": 50,
      "outputs": [
        {
          "output_type": "stream",
          "name": "stdout",
          "text": [
            "[[17 19 15]\n",
            " [25 22 15]\n",
            " [20 26 18]]\n"
          ]
        }
      ]
    },
    {
      "cell_type": "code",
      "source": [
        "print(a - b) # element wise subtraction when its np array\n",
        "print(a * b) # element wise multiplication when its np array\n",
        "print(a / b) # element wise division when its np array"
      ],
      "metadata": {
        "colab": {
          "base_uri": "https://localhost:8080/"
        },
        "id": "6MVFoyIwBH4Y",
        "outputId": "b38ae446-44fe-4b37-b687-80d759a18931"
      },
      "execution_count": 53,
      "outputs": [
        {
          "output_type": "stream",
          "name": "stdout",
          "text": [
            "[[ -5 -15 -13]\n",
            " [ -9  -8  -9]\n",
            " [-12  -8 -14]]\n",
            "[[ 66  34  14]\n",
            " [136 105  36]\n",
            " [ 64 153  32]]\n",
            "[[0.54545455 0.11764706 0.07142857]\n",
            " [0.47058824 0.46666667 0.25      ]\n",
            " [0.25       0.52941176 0.125     ]]\n"
          ]
        }
      ]
    },
    {
      "cell_type": "code",
      "source": [
        "a = np.random.randint(0,10,(3,3))\n",
        "b = np.random.randint(10,20,(3,3))\n",
        "print(\"array A = \", a)\n",
        "print(\"array B = \", b)\n",
        "print (\"---------------\")\n",
        "print(np.add(a, b))\n",
        "print (\"---------------\")\n",
        "print (np.subtract(a,b))\n",
        "print (\"---------------\")\n",
        "print (np.multiply(a,b))\n",
        "print (\"---------------\")\n",
        "print (np.divide(a,b))"
      ],
      "metadata": {
        "colab": {
          "base_uri": "https://localhost:8080/"
        },
        "id": "ssOaXGRQBdIe",
        "outputId": "dfd0341e-a342-4678-a78f-a02b06df5d21"
      },
      "execution_count": 57,
      "outputs": [
        {
          "output_type": "stream",
          "name": "stdout",
          "text": [
            "array A =  [[8 3 3]\n",
            " [5 0 9]\n",
            " [0 0 8]]\n",
            "array B =  [[13 11 17]\n",
            " [19 15 14]\n",
            " [12 11 12]]\n",
            "---------------\n",
            "[[21 14 20]\n",
            " [24 15 23]\n",
            " [12 11 20]]\n",
            "---------------\n",
            "[[ -5  -8 -14]\n",
            " [-14 -15  -5]\n",
            " [-12 -11  -4]]\n",
            "---------------\n",
            "[[104  33  51]\n",
            " [ 95   0 126]\n",
            " [  0   0  96]]\n",
            "---------------\n",
            "[[0.61538462 0.27272727 0.17647059]\n",
            " [0.26315789 0.         0.64285714]\n",
            " [0.         0.         0.66666667]]\n"
          ]
        }
      ]
    },
    {
      "cell_type": "markdown",
      "source": [
        "Array Manipulation"
      ],
      "metadata": {
        "id": "AlCFGB9ZDOdp"
      }
    },
    {
      "cell_type": "code",
      "source": [
        "array = np.random.randint(0,10,(2,3))\n",
        "print(array)\n",
        "print (array.shape)\n",
        "\n",
        "# transpose\n",
        "trans = np.transpose(array)\n",
        "print(trans)\n",
        "print (trans.shape)\n"
      ],
      "metadata": {
        "colab": {
          "base_uri": "https://localhost:8080/"
        },
        "id": "sFfXbjSNDM9V",
        "outputId": "f9dc8e87-4412-4365-a5b9-0043182d2a65"
      },
      "execution_count": 61,
      "outputs": [
        {
          "output_type": "stream",
          "name": "stdout",
          "text": [
            "[[6 4 0]\n",
            " [6 5 3]]\n",
            "(2, 3)\n",
            "[[6 6]\n",
            " [4 5]\n",
            " [0 3]]\n",
            "(3, 2)\n"
          ]
        }
      ]
    },
    {
      "cell_type": "code",
      "source": [
        "# Another method for transpose\n",
        "\n",
        "trans2 = array.T\n",
        "print(trans2)\n",
        "print (trans2.shape)"
      ],
      "metadata": {
        "colab": {
          "base_uri": "https://localhost:8080/"
        },
        "id": "II2W4qweDws3",
        "outputId": "7825e29e-fb0e-4dda-a9c3-338f8ef02149"
      },
      "execution_count": 63,
      "outputs": [
        {
          "output_type": "stream",
          "name": "stdout",
          "text": [
            "[[6 6]\n",
            " [4 5]\n",
            " [0 3]]\n",
            "(3, 2)\n"
          ]
        }
      ]
    },
    {
      "cell_type": "code",
      "source": [
        "# reshaping an array\n",
        "a= np.random.randint(0,10,(2,3))\n",
        "print(a)\n",
        "print(a.shape)\n",
        "\n",
        "b = a.reshape(3,2)\n",
        "print(b)\n",
        "print(b.shape)"
      ],
      "metadata": {
        "colab": {
          "base_uri": "https://localhost:8080/"
        },
        "id": "9scwNJzTEAMN",
        "outputId": "707bbd13-00d3-475c-b9c6-d0fa3766c781"
      },
      "execution_count": 66,
      "outputs": [
        {
          "output_type": "stream",
          "name": "stdout",
          "text": [
            "[[7 2 8]\n",
            " [4 9 8]]\n",
            "(2, 3)\n",
            "[[7 2]\n",
            " [8 4]\n",
            " [9 8]]\n",
            "(3, 2)\n"
          ]
        }
      ]
    }
  ]
}