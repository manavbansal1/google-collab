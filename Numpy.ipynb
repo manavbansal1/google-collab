{
  "nbformat": 4,
  "nbformat_minor": 0,
  "metadata": {
    "colab": {
      "provenance": [],
      "authorship_tag": "ABX9TyPpLpx2V9CvAwfIh/3XXbUw",
      "include_colab_link": true
    },
    "kernelspec": {
      "name": "python3",
      "display_name": "Python 3"
    },
    "language_info": {
      "name": "python"
    }
  },
  "cells": [
    {
      "cell_type": "markdown",
      "metadata": {
        "id": "view-in-github",
        "colab_type": "text"
      },
      "source": [
        "<a href=\"https://colab.research.google.com/github/manavbansal1/google-collab/blob/main/Numpy.ipynb\" target=\"_parent\"><img src=\"https://colab.research.google.com/assets/colab-badge.svg\" alt=\"Open In Colab\"/></a>"
      ]
    },
    {
      "cell_type": "markdown",
      "source": [
        "Numpy Practice"
      ],
      "metadata": {
        "id": "iPR41mD37FB0"
      }
    },
    {
      "cell_type": "code",
      "execution_count": 1,
      "metadata": {
        "id": "lUdnkMCMarsP"
      },
      "outputs": [],
      "source": [
        "import numpy as np"
      ]
    },
    {
      "cell_type": "code",
      "source": [
        "numpy_array = np.array([(1,2,3,4,5), (6,7,8,9,10)], dtype='int') # dtype is optional"
      ],
      "metadata": {
        "id": "3QnCWj4u7MW-"
      },
      "execution_count": 11,
      "outputs": []
    },
    {
      "cell_type": "code",
      "source": [
        "print(numpy_array)\n",
        "print(numpy_array.shape) # for 2d array no. of rows * no. of columns\n",
        "print(type(numpy_array))\n",
        "print(numpy_array.size) # total nuber of elements\n"
      ],
      "metadata": {
        "colab": {
          "base_uri": "https://localhost:8080/"
        },
        "id": "eKWOLmgm7PWn",
        "outputId": "2f675348-1da4-4c57-b184-afab290bcccc"
      },
      "execution_count": 14,
      "outputs": [
        {
          "output_type": "stream",
          "name": "stdout",
          "text": [
            "[[ 1  2  3  4  5]\n",
            " [ 6  7  8  9 10]]\n",
            "(2, 5)\n",
            "<class 'numpy.ndarray'>\n",
            "10\n"
          ]
        }
      ]
    },
    {
      "cell_type": "code",
      "source": [
        "c = np.array([1,2,3,4,5,6,7,8,9], dtype='float')\n",
        "print(c)\n",
        "print(type(c))"
      ],
      "metadata": {
        "colab": {
          "base_uri": "https://localhost:8080/"
        },
        "id": "2BM8PVtf8U2J",
        "outputId": "560bc018-136b-4f2c-860d-b68242b0a1a4"
      },
      "execution_count": 15,
      "outputs": [
        {
          "output_type": "stream",
          "name": "stdout",
          "text": [
            "[1. 2. 3. 4. 5. 6. 7. 8. 9.]\n",
            "<class 'numpy.ndarray'>\n"
          ]
        }
      ]
    },
    {
      "cell_type": "markdown",
      "source": [
        "Initial Placeholers in numpy array"
      ],
      "metadata": {
        "id": "busKaiG_8iHC"
      }
    },
    {
      "cell_type": "code",
      "source": [
        "x = np.zeros((4,5), dtype='bool') #dtype can be int float str or bool\n",
        "print(x)"
      ],
      "metadata": {
        "colab": {
          "base_uri": "https://localhost:8080/"
        },
        "id": "gXIyhFBV8oRs",
        "outputId": "d65a81c6-d622-477a-9b22-f1e2ed265fad"
      },
      "execution_count": 21,
      "outputs": [
        {
          "output_type": "stream",
          "name": "stdout",
          "text": [
            "[[False False False False False]\n",
            " [False False False False False]\n",
            " [False False False False False]\n",
            " [False False False False False]]\n"
          ]
        }
      ]
    },
    {
      "cell_type": "code",
      "source": [
        "# numpy arrays of ones\n",
        "y = np.ones((3,3))\n",
        "print(y)"
      ],
      "metadata": {
        "colab": {
          "base_uri": "https://localhost:8080/"
        },
        "id": "4BmIQP_M8_oy",
        "outputId": "1efbd114-37f5-44a0-c848-467cdfd69eec"
      },
      "execution_count": 22,
      "outputs": [
        {
          "output_type": "stream",
          "name": "stdout",
          "text": [
            "[[1. 1. 1.]\n",
            " [1. 1. 1.]\n",
            " [1. 1. 1.]]\n"
          ]
        }
      ]
    },
    {
      "cell_type": "code",
      "source": [
        "# array of a specific numbers\n",
        "z = np.full((5,4), 5,  dtype='float')\n",
        "print(z)"
      ],
      "metadata": {
        "colab": {
          "base_uri": "https://localhost:8080/"
        },
        "id": "u8mw0Jc79IE2",
        "outputId": "81ac66e3-24f6-400a-c93c-8b989128be19"
      },
      "execution_count": 24,
      "outputs": [
        {
          "output_type": "stream",
          "name": "stdout",
          "text": [
            "[[5. 5. 5. 5.]\n",
            " [5. 5. 5. 5.]\n",
            " [5. 5. 5. 5.]\n",
            " [5. 5. 5. 5.]\n",
            " [5. 5. 5. 5.]]\n"
          ]
        }
      ]
    },
    {
      "cell_type": "code",
      "source": [
        "# create an identity matrix\n",
        "a = np.eye(4, dtype='int')\n",
        "print(a)"
      ],
      "metadata": {
        "colab": {
          "base_uri": "https://localhost:8080/"
        },
        "id": "sHZTqCDB9Wcp",
        "outputId": "4d08c2a7-e966-4b9e-a011-139df01d26d0"
      },
      "execution_count": 26,
      "outputs": [
        {
          "output_type": "stream",
          "name": "stdout",
          "text": [
            "[[1 0 0 0]\n",
            " [0 1 0 0]\n",
            " [0 0 1 0]\n",
            " [0 0 0 1]]\n"
          ]
        }
      ]
    },
    {
      "cell_type": "code",
      "source": [
        "# create a numpy array with random arrays\n",
        "\n",
        "b = np.random.random((3,4))\n",
        "print(b)"
      ],
      "metadata": {
        "colab": {
          "base_uri": "https://localhost:8080/"
        },
        "id": "jXFab3SJ9h8t",
        "outputId": "f7cc937e-bd98-4a96-d26f-fb1c1b218e88"
      },
      "execution_count": 29,
      "outputs": [
        {
          "output_type": "stream",
          "name": "stdout",
          "text": [
            "[[0.15698912 0.21035696 0.62359532 0.78779139]\n",
            " [0.2892467  0.98811078 0.46126413 0.27034145]\n",
            " [0.85140945 0.92014756 0.56627464 0.32836962]]\n"
          ]
        }
      ]
    },
    {
      "cell_type": "code",
      "source": [
        "# Create a matrix between 10 and 100 ints\n",
        "c = np.random.randint(10,100,(3,5))\n",
        "print(c)"
      ],
      "metadata": {
        "colab": {
          "base_uri": "https://localhost:8080/"
        },
        "id": "Dh_mc9fw9zf0",
        "outputId": "cf9d932a-031e-4f70-e478-ad839fe61ba5"
      },
      "execution_count": 32,
      "outputs": [
        {
          "output_type": "stream",
          "name": "stdout",
          "text": [
            "[[93 40 11 53 71]\n",
            " [57 46 75 30 28]\n",
            " [35 32 96 72 92]]\n"
          ]
        }
      ]
    },
    {
      "cell_type": "code",
      "source": [
        "# array of 5 evenly spaced values between 10 and 30\n",
        "d = np.linspace(10,30,5)\n",
        "print(d)"
      ],
      "metadata": {
        "colab": {
          "base_uri": "https://localhost:8080/"
        },
        "id": "Oj1q3Xt--HMJ",
        "outputId": "f907ded3-3eea-4ee5-a5b0-e2d6221f92e9"
      },
      "execution_count": 35,
      "outputs": [
        {
          "output_type": "stream",
          "name": "stdout",
          "text": [
            "[10. 15. 20. 25. 30.]\n"
          ]
        }
      ]
    },
    {
      "cell_type": "code",
      "source": [
        "# array of evenly spaced values --> specifying the step not the number of values we need\n",
        "e = np.arange(10,30,5)\n",
        "print(e)"
      ],
      "metadata": {
        "colab": {
          "base_uri": "https://localhost:8080/"
        },
        "id": "t3YmMnAi-eET",
        "outputId": "444c48ee-3c61-48a2-deef-20f5a457e4a4"
      },
      "execution_count": 36,
      "outputs": [
        {
          "output_type": "stream",
          "name": "stdout",
          "text": [
            "[10 15 20 25]\n"
          ]
        }
      ]
    },
    {
      "cell_type": "code",
      "source": [
        "# list to numpy array\n",
        "list1= [1,2,3,4,5,6,7]\n",
        "np_array = np.asanyarray(list1)\n",
        "print(np_array)\n",
        "print(type(np_array))"
      ],
      "metadata": {
        "colab": {
          "base_uri": "https://localhost:8080/"
        },
        "id": "FX4CryTT-3d1",
        "outputId": "838b69a5-6ac1-49fd-9cdd-3b305114d2a0"
      },
      "execution_count": 37,
      "outputs": [
        {
          "output_type": "stream",
          "name": "stdout",
          "text": [
            "[1 2 3 4 5 6 7]\n",
            "<class 'numpy.ndarray'>\n"
          ]
        }
      ]
    },
    {
      "cell_type": "code",
      "source": [],
      "metadata": {
        "id": "PeTA-BJj_GgZ"
      },
      "execution_count": null,
      "outputs": []
    }
  ]
}